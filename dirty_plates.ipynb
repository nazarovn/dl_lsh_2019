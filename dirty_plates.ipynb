{
 "cells": [
  {
   "cell_type": "code",
   "execution_count": 1,
   "metadata": {},
   "outputs": [],
   "source": [
    "import numpy as np\n",
    "import pandas as pd\n",
    "import matplotlib.pyplot as plt\n",
    "%matplotlib inline\n",
    "from IPython.display import clear_output\n",
    "\n",
    "import torch\n",
    "import torch.nn as nn\n",
    "import torch.nn.functional as F\n",
    "from torch.utils.data import dataloader\n",
    "import torchvision\n",
    "from torchvision import transforms "
   ]
  },
  {
   "cell_type": "markdown",
   "metadata": {},
   "source": [
    "# 1. Загрузка данных"
   ]
  },
  {
   "cell_type": "code",
   "execution_count": 2,
   "metadata": {},
   "outputs": [],
   "source": [
    "normalize = transforms.Normalize(\n",
    "   mean=[0.485, 0.456, 0.406],\n",
    "   std=[0.229, 0.224, 0.225]\n",
    ")\n",
    "\n",
    "size_crop = 224\n",
    "train_transform = transforms.Compose([\n",
    "    transforms.RandomCrop(size_crop),\n",
    "    transforms.RandomHorizontalFlip(),\n",
    "    transforms.RandomVerticalFlip(),\n",
    "    transforms.RandomRotation([-20, 20]),\n",
    "    transforms.ToTensor(),\n",
    "    normalize,\n",
    "])\n",
    "val_transform = transforms.Compose([\n",
    "    transforms.RandomCrop(size_crop),\n",
    "    transforms.ToTensor(),\n",
    "    normalize,\n",
    "])\n",
    "test_transform = transforms.Compose([\n",
    "    transforms.RandomCrop(size_crop),\n",
    "    transforms.RandomHorizontalFlip(),\n",
    "    transforms.RandomVerticalFlip(),\n",
    "    transforms.RandomRotation([-20, 20]),\n",
    "    transforms.ToTensor(),\n",
    "    normalize,\n",
    "])\n",
    "\n",
    "# разбил размеченные 20 картинок на train и val в соотношениее 16/4\n",
    "train_dataset = torchvision.datasets.ImageFolder('data/train/', transform=train_transform)\n",
    "val_dataset = torchvision.datasets.ImageFolder('data/val/', transform=val_transform)\n",
    "test_dataset = torchvision.datasets.ImageFolder('data/test/', transform=test_transform)\n",
    "all_train_dataset = torchvision.datasets.ImageFolder(\n",
    "    'superbowllsh/superbowllsh/train/', transform=train_transform)"
   ]
  },
  {
   "cell_type": "code",
   "execution_count": 3,
   "metadata": {},
   "outputs": [],
   "source": [
    "train_loader = torch.utils.data.DataLoader(\n",
    "    train_dataset,\n",
    "    batch_size=8,\n",
    "    num_workers=0,\n",
    "    shuffle=True\n",
    ")\n",
    "all_train_loader = torch.utils.data.DataLoader(\n",
    "    all_train_dataset,\n",
    "    batch_size=8,\n",
    "    num_workers=0,\n",
    "    shuffle=True\n",
    ")\n",
    "val_loader = torch.utils.data.DataLoader(\n",
    "    val_dataset,\n",
    "    batch_size=4,\n",
    "    num_workers=0,\n",
    "    shuffle=False\n",
    ")\n",
    "test_loader = torch.utils.data.DataLoader(\n",
    "    test_dataset,\n",
    "    batch_size=4,\n",
    "    num_workers=0,\n",
    "    shuffle=False\n",
    ")"
   ]
  },
  {
   "cell_type": "markdown",
   "metadata": {},
   "source": [
    "# 2. Создаём модель"
   ]
  },
  {
   "cell_type": "code",
   "execution_count": 4,
   "metadata": {},
   "outputs": [],
   "source": [
    "class Flatten(nn.Module):\n",
    "    def forward(self, x):\n",
    "        return x.view(x.size()[0], -1)\n",
    "\n",
    "def get_model(): \n",
    "    model = nn.Sequential(\n",
    "        nn.Conv2d(3, 16, 3, padding=1),\n",
    "        nn.MaxPool2d(2),\n",
    "        nn.ReLU(),\n",
    "        nn.BatchNorm2d(16),\n",
    "\n",
    "        nn.Conv2d(16, 32, 3, padding=1),\n",
    "        nn.MaxPool2d(2),\n",
    "        nn.ReLU(),\n",
    "        nn.BatchNorm2d(32),\n",
    "\n",
    "        nn.Conv2d(32, 64, 3, padding=1),\n",
    "        nn.MaxPool2d(2),\n",
    "        nn.ReLU(),\n",
    "        nn.BatchNorm2d(64),\n",
    "\n",
    "        nn.Conv2d(64, 128, 3, padding=1),\n",
    "        nn.MaxPool2d(4),\n",
    "        nn.ReLU(),\n",
    "        Flatten(),\n",
    "\n",
    "        nn.Linear(7 * 7 * 128, 128),\n",
    "        nn.ReLU(),\n",
    "        nn.Linear(128, 128),\n",
    "        nn.ReLU(),\n",
    "        nn.Linear(128, 2)\n",
    "    )\n",
    "    return model\n",
    "\n",
    "def get_loss(logit, y):\n",
    "    loss = F.nll_loss(F.log_softmax(logit, dim=1), y)\n",
    "    return loss"
   ]
  },
  {
   "cell_type": "markdown",
   "metadata": {},
   "source": [
    "# 3. Обучаем"
   ]
  },
  {
   "cell_type": "markdown",
   "metadata": {},
   "source": [
    "#### обучаем на 16 картинках из train, валидируемся на 4 оставшихся в train"
   ]
  },
  {
   "cell_type": "code",
   "execution_count": 5,
   "metadata": {},
   "outputs": [],
   "source": [
    "model = get_model()\n",
    "optim = torch.optim.Adam(model.parameters(), lr=0.0001)\n",
    "\n",
    "hist_train_loss = []\n",
    "hist_val_loss = []"
   ]
  },
  {
   "cell_type": "code",
   "execution_count": 6,
   "metadata": {},
   "outputs": [
    {
     "data": {
      "image/png": "[encoded data removed]",
      "text/plain": [
       "<Figure size 432x288 with 1 Axes>"
      ]
     },
     "metadata": {
      "needs_background": "light"
     },
     "output_type": "display_data"
    }
   ],
   "source": [
    "epochs = 60\n",
    "for epoch in range(epochs):\n",
    "    model.train()\n",
    "    losses = []\n",
    "    for data, target in train_loader:\n",
    "        optim.zero_grad()\n",
    "        output = model(data)\n",
    "        loss = get_loss(output, target)\n",
    "        losses.append(loss.data.numpy())\n",
    "        loss.backward()\n",
    "        optim.step()\n",
    "    hist_train_loss.append(np.mean(losses))\n",
    "    \n",
    "    model.eval()\n",
    "    losses = []\n",
    "    for data, target in val_loader:\n",
    "        output = model(data)\n",
    "        loss = get_loss(output, target)\n",
    "        losses.append(loss.data.numpy())\n",
    "    hist_val_loss.append(np.mean(losses))\n",
    "    \n",
    "    plt.plot(np.arange(len(hist_train_loss)), hist_train_loss, '-o', label='train')\n",
    "    plt.plot(np.arange(len(hist_val_loss)), hist_val_loss, '-o', label='val')\n",
    "    plt.legend()\n",
    "    plt.title('loss')\n",
    "    plt.xlabel('epochs')\n",
    "    plt.show()\n",
    "    clear_output(wait=True)"
   ]
  },
  {
   "cell_type": "markdown",
   "metadata": {},
   "source": [
    "#### обучаем на всех 20 картинках из train"
   ]
  },
  {
   "cell_type": "code",
   "execution_count": 7,
   "metadata": {},
   "outputs": [
    {
     "data": {
      "image/png": "[encoded data removed]",
      "text/plain": [
       "<Figure size 432x288 with 1 Axes>"
      ]
     },
     "metadata": {
      "needs_background": "light"
     },
     "output_type": "display_data"
    }
   ],
   "source": [
    "model = get_model()\n",
    "optim = torch.optim.Adam(model.parameters(), lr=0.0001)\n",
    "\n",
    "hist_train_loss = []\n",
    "hist_val_loss = []\n",
    "\n",
    "\n",
    "epochs = 60\n",
    "for epoch in range(epochs):\n",
    "    model.train()\n",
    "    \n",
    "    losses = []\n",
    "    for data, target in all_train_loader:\n",
    "        optim.zero_grad()\n",
    "        output = model(data)\n",
    "        loss = get_loss(output, target)\n",
    "        losses.append(loss.data.numpy())\n",
    "        loss.backward()\n",
    "        optim.step()\n",
    "    hist_train_loss.append(np.mean(losses))\n",
    "    \n",
    "    plt.plot(np.arange(len(hist_train_loss)), hist_train_loss, '-o', label='all_train')\n",
    "    plt.legend()\n",
    "    plt.title('loss')\n",
    "    plt.xlabel('epochs')\n",
    "    plt.show()\n",
    "    clear_output(wait=True)"
   ]
  },
  {
   "cell_type": "markdown",
   "metadata": {},
   "source": [
    "# 4. Итоговое предсказание и сохранение результата"
   ]
  },
  {
   "cell_type": "markdown",
   "metadata": {},
   "source": [
    "Делаем предсказания для различных трансформаций тестовых картинок и усредняем результат."
   ]
  },
  {
   "cell_type": "code",
   "execution_count": 8,
   "metadata": {},
   "outputs": [],
   "source": [
    "test_names = [path.split('/')[-1][:-4] for path, _ in test_dataset.imgs]\n",
    "res_df = pd.DataFrame({'id': test_names})\n",
    "\n",
    "model.eval()\n",
    "for i in range(15):\n",
    "    res = []\n",
    "    for data, target in test_loader:\n",
    "        output = model(data)\n",
    "        res.append(output.argmax(dim=1).numpy())\n",
    "    res_df[f'res_{i}'] = np.hstack(res)\n",
    "\n",
    "res_df['mean'] = res_df.drop('id', axis=1).mean(axis=1)\n",
    "res_df['label'] = ['dirty' if x >= 0.5 else 'cleaned' for x in res_df['mean']]\n",
    "res_df[['id', 'label']].to_csv('answer.csv', index=False)"
   ]
  },
  {
   "cell_type": "code",
   "execution_count": 9,
   "metadata": {},
   "outputs": [
    {
     "data": {
      "text/html": [
       "<div>\n",
       "<style scoped>\n",
       "    .dataframe tbody tr th:only-of-type {\n",
       "        vertical-align: middle;\n",
       "    }\n",
       "\n",
       "    .dataframe tbody tr th {\n",
       "        vertical-align: top;\n",
       "    }\n",
       "\n",
       "    .dataframe thead th {\n",
       "        text-align: right;\n",
       "    }\n",
       "</style>\n",
       "<table border=\"1\" class=\"dataframe\">\n",
       "  <thead>\n",
       "    <tr style=\"text-align: right;\">\n",
       "      <th></th>\n",
       "      <th>id</th>\n",
       "      <th>res_0</th>\n",
       "      <th>res_1</th>\n",
       "      <th>res_2</th>\n",
       "      <th>res_3</th>\n",
       "      <th>res_4</th>\n",
       "      <th>res_5</th>\n",
       "      <th>res_6</th>\n",
       "      <th>res_7</th>\n",
       "      <th>res_8</th>\n",
       "      <th>res_9</th>\n",
       "      <th>res_10</th>\n",
       "      <th>res_11</th>\n",
       "      <th>res_12</th>\n",
       "      <th>res_13</th>\n",
       "      <th>res_14</th>\n",
       "      <th>mean</th>\n",
       "      <th>label</th>\n",
       "    </tr>\n",
       "  </thead>\n",
       "  <tbody>\n",
       "    <tr>\n",
       "      <th>0</th>\n",
       "      <td>0000</td>\n",
       "      <td>1</td>\n",
       "      <td>1</td>\n",
       "      <td>0</td>\n",
       "      <td>1</td>\n",
       "      <td>1</td>\n",
       "      <td>1</td>\n",
       "      <td>1</td>\n",
       "      <td>0</td>\n",
       "      <td>1</td>\n",
       "      <td>1</td>\n",
       "      <td>1</td>\n",
       "      <td>1</td>\n",
       "      <td>1</td>\n",
       "      <td>1</td>\n",
       "      <td>1</td>\n",
       "      <td>0.866667</td>\n",
       "      <td>dirty</td>\n",
       "    </tr>\n",
       "    <tr>\n",
       "      <th>1</th>\n",
       "      <td>0001</td>\n",
       "      <td>1</td>\n",
       "      <td>1</td>\n",
       "      <td>1</td>\n",
       "      <td>1</td>\n",
       "      <td>1</td>\n",
       "      <td>1</td>\n",
       "      <td>1</td>\n",
       "      <td>1</td>\n",
       "      <td>1</td>\n",
       "      <td>1</td>\n",
       "      <td>1</td>\n",
       "      <td>1</td>\n",
       "      <td>1</td>\n",
       "      <td>1</td>\n",
       "      <td>1</td>\n",
       "      <td>1.000000</td>\n",
       "      <td>dirty</td>\n",
       "    </tr>\n",
       "    <tr>\n",
       "      <th>2</th>\n",
       "      <td>0002</td>\n",
       "      <td>1</td>\n",
       "      <td>1</td>\n",
       "      <td>1</td>\n",
       "      <td>1</td>\n",
       "      <td>1</td>\n",
       "      <td>1</td>\n",
       "      <td>1</td>\n",
       "      <td>1</td>\n",
       "      <td>1</td>\n",
       "      <td>1</td>\n",
       "      <td>1</td>\n",
       "      <td>1</td>\n",
       "      <td>1</td>\n",
       "      <td>1</td>\n",
       "      <td>1</td>\n",
       "      <td>1.000000</td>\n",
       "      <td>dirty</td>\n",
       "    </tr>\n",
       "    <tr>\n",
       "      <th>3</th>\n",
       "      <td>0003</td>\n",
       "      <td>1</td>\n",
       "      <td>0</td>\n",
       "      <td>1</td>\n",
       "      <td>1</td>\n",
       "      <td>1</td>\n",
       "      <td>1</td>\n",
       "      <td>1</td>\n",
       "      <td>1</td>\n",
       "      <td>1</td>\n",
       "      <td>1</td>\n",
       "      <td>1</td>\n",
       "      <td>1</td>\n",
       "      <td>0</td>\n",
       "      <td>1</td>\n",
       "      <td>1</td>\n",
       "      <td>0.866667</td>\n",
       "      <td>dirty</td>\n",
       "    </tr>\n",
       "    <tr>\n",
       "      <th>4</th>\n",
       "      <td>0004</td>\n",
       "      <td>1</td>\n",
       "      <td>1</td>\n",
       "      <td>1</td>\n",
       "      <td>1</td>\n",
       "      <td>1</td>\n",
       "      <td>1</td>\n",
       "      <td>1</td>\n",
       "      <td>1</td>\n",
       "      <td>1</td>\n",
       "      <td>1</td>\n",
       "      <td>1</td>\n",
       "      <td>1</td>\n",
       "      <td>1</td>\n",
       "      <td>1</td>\n",
       "      <td>1</td>\n",
       "      <td>1.000000</td>\n",
       "      <td>dirty</td>\n",
       "    </tr>\n",
       "  </tbody>\n",
       "</table>\n",
       "</div>"
      ],
      "text/plain": [
       "     id  res_0  res_1  res_2  res_3  res_4  res_5  res_6  res_7  res_8  res_9  \\\n",
       "0  0000      1      1      0      1      1      1      1      0      1      1   \n",
       "1  0001      1      1      1      1      1      1      1      1      1      1   \n",
       "2  0002      1      1      1      1      1      1      1      1      1      1   \n",
       "3  0003      1      0      1      1      1      1      1      1      1      1   \n",
       "4  0004      1      1      1      1      1      1      1      1      1      1   \n",
       "\n",
       "   res_10  res_11  res_12  res_13  res_14      mean  label  \n",
       "0       1       1       1       1       1  0.866667  dirty  \n",
       "1       1       1       1       1       1  1.000000  dirty  \n",
       "2       1       1       1       1       1  1.000000  dirty  \n",
       "3       1       1       0       1       1  0.866667  dirty  \n",
       "4       1       1       1       1       1  1.000000  dirty  "
      ]
     },
     "execution_count": 9,
     "metadata": {},
     "output_type": "execute_result"
    }
   ],
   "source": [
    "res_df.head()"
   ]
  }
 ],
 "metadata": {
  "kernelspec": {
   "display_name": "Python 3",
   "language": "python",
   "name": "python3"
  },
  "language_info": {
   "codemirror_mode": {
    "name": "ipython",
    "version": 3
   },
   "file_extension": ".py",
   "mimetype": "text/x-python",
   "name": "python",
   "nbconvert_exporter": "python",
   "pygments_lexer": "ipython3",
   "version": "3.6.3"
  }
 },
 "nbformat": 4,
 "nbformat_minor": 2
}
